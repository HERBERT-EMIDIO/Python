{
 "cells": [
  {
   "cell_type": "markdown",
   "metadata": {},
   "source": [
    "# Variáveis\n"
   ]
  },
  {
   "cell_type": "code",
   "execution_count": 2,
   "metadata": {},
   "outputs": [
    {
     "name": "stdout",
     "output_type": "stream",
     "text": [
      "nomes\n",
      "\n"
     ]
    }
   ],
   "source": [
    "strings_nomes = \"nomes\"\n",
    "print(strings_nomes)\n",
    "print()\n"
   ]
  },
  {
   "cell_type": "markdown",
   "metadata": {},
   "source": [
    "#### Declarando duas variáveis na mesma linha. "
   ]
  },
  {
   "cell_type": "code",
   "execution_count": 4,
   "metadata": {},
   "outputs": [
    {
     "name": "stdout",
     "output_type": "stream",
     "text": [
      "15.0\n"
     ]
    }
   ],
   "source": [
    "sum1, sum2 = 10, 20\n",
    "media = (sum1 + sum2) / 2 \n",
    "print(media)"
   ]
  },
  {
   "cell_type": "markdown",
   "metadata": {},
   "source": [
    "### Tipos\n"
   ]
  },
  {
   "cell_type": "code",
   "execution_count": 14,
   "metadata": {},
   "outputs": [
    {
     "name": "stdout",
     "output_type": "stream",
     "text": [
      "tipos das variáveis: nome:<class 'str'>\n",
      "idade:<class 'int'>\n",
      "altura:<class 'float'>\n",
      "inteligente:<class 'bool'> \n"
     ]
    }
   ],
   "source": [
    "nome = \"Herbert\"\n",
    "idade = 40\n",
    "altura = 1.83\n",
    "inteligente = True\n",
    "desistir = False\n",
    "\n",
    "print(f\"tipos das variáveis: nome:{type(nome)}\\nidade:{type(idade)}\\naltura:{type(altura)}\\ninteligente:{type(inteligente)} \")"
   ]
  },
  {
   "cell_type": "markdown",
   "metadata": {},
   "source": [
    "### Comparar com a Função isinstence()\n",
    "'''\n",
    "usada em validação\n",
    "'''"
   ]
  },
  {
   "cell_type": "code",
   "execution_count": 17,
   "metadata": {},
   "outputs": [
    {
     "name": "stdout",
     "output_type": "stream",
     "text": [
      "True\n",
      "True\n"
     ]
    }
   ],
   "source": [
    "# comparar com a função isinstance(esse valor, é int) true\n",
    "a = 10\n",
    "b = 'Sol'\n",
    "\n",
    "print(isinstance(a, int))\n",
    "print(isinstance(b, str))"
   ]
  },
  {
   "cell_type": "markdown",
   "metadata": {},
   "source": [
    "<!-- ctr + k + c = comentário \n",
    "ctr + k + u = desfazer o comnetário -->"
   ]
  }
 ],
 "metadata": {
  "kernelspec": {
   "display_name": "Python 3",
   "language": "python",
   "name": "python3"
  },
  "language_info": {
   "codemirror_mode": {
    "name": "ipython",
    "version": 3
   },
   "file_extension": ".py",
   "mimetype": "text/x-python",
   "name": "python",
   "nbconvert_exporter": "python",
   "pygments_lexer": "ipython3",
   "version": "3.12.4"
  }
 },
 "nbformat": 4,
 "nbformat_minor": 2
}
